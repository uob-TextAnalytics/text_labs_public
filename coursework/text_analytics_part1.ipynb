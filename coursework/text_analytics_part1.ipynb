{
 "cells": [
  {
   "cell_type": "markdown",
   "id": "794243c0",
   "metadata": {},
   "source": [
    "# Text Analytics Coursework -- Tasks 1.1 to 1.3\n",
    "\n",
    "# Instructions:\n",
    "\n",
    "This notebook is forms the first part of your coursework assignment for Text Analytics in Spring 2025. You will need to read the instructions below and complete numbered tasks indicated by \"TASK n\". To complete the tasks, you will write code or explanations between the comments \"#WRITE YOUR ANSWER HERE\" and \"#END OF ANSWER\". For example:\n",
    "\n",
    "TASK 0: Complete the function below to output \"hello world\". \n"
   ]
  },
  {
   "cell_type": "code",
   "execution_count": null,
   "id": "5486ee90",
   "metadata": {},
   "outputs": [],
   "source": [
    "def demo_fun():\n",
    "    # WRITE YOUR ANSWER HERE\n",
    "    print(\"hello world\")\n",
    "    # END OF ANSWER\n",
    "\n",
    "### DO NOT MODIFY\n",
    "demo_fun()\n",
    "###"
   ]
  },
  {
   "cell_type": "markdown",
   "id": "a422f8fe",
   "metadata": {},
   "source": [
    "There is also some code in the cell that should not be modified. This code saves your results to file in the correct format, which is necessary for us to be able to mark your answers. Before you submit your notebook, please make sure this code has not been modified, then restart your kernel, clear all cell outputs, run all of your code once again, then save the notebook. \n",
    "\n",
    "Please note:\n",
    "  * The notebook you upload must include all the saved cell output after running all cells.\n",
    "  * The notebook code must be complete so that it reproduces all your output when we run it. \n",
    "  * For this coursework, we recommend that you use your virtual environment that you created for the labs. The packages you need are: numpy, scipy, nltk, pytorch, transformers and datasets (from HuggingFace), pandas, matplotlib and scikit-learn. \n",
    "\n",
    "## Marking guidelines:\n",
    "1. This notebook is worth 32% of the marks for the Text Analytics assignment.\n",
    "1. The number of marks for each task is shown alongside the task.\n",
    "1. We will evaluate the output of your code after running it, and marks will be awarded based on how well the output matches the task's instructions. \n",
    "1. We will give partial marks for incomplete or partially correct answers. \n",
    "1. We do not give additional marks for code style or comments, but clear code will help us to understand what you have done so that we can award partial marks where necessary. \n",
    "1. Unless the task asks you to implement something from scratch, there is no penalty for using software libraries in your implementation.\n",
    "\n",
    "## Support:\n",
    "\n",
    "The main source of support will be during the lab sessions. The TAs and lecturers will help you with questions about the lectures, the code provided for you in this notebook, and general questions about the topics we cover. For the assessed tasks, they can only answer clarifying questions about what you have to do. Please email Edwin if you have any other queries edwin.simpson@bristol.ac.uk and/or post your query to the Teams channel for this unit.\n",
    "\n",
    "## Deadline:\n",
    "\n",
    "The notebook must be submitted along with the second notebook on Blackboard before **Monday 28th April at 13.00**. \n",
    "\n",
    "## Submission:\n",
    "\n",
    "For this part of the assignment, please zip up the folder containing this file and the 'outputs' directory, containing the output from this notebook as .csv files. Please name your notebook file like this:\n",
    "   * Name this notebook 'text_analytics_part1_\\<student number\\>.ipynb'. Replace '\\<student number\\>' with your student number, which consists only of digits beginning with '2'. \n",
    "   * We mark anonymously, so please don't include your name in the notebook.\n",
    "\n",
    "You can submit the file on Blackboard to the submission point \"Text Analytics Part 1 Notebook\". Remember that the assignment also has parts 2 and 3, described in the PDF file on Blackboard."
   ]
  },
  {
   "cell_type": "markdown",
   "id": "54ff04e2",
   "metadata": {},
   "source": [
    "# Setup: random seeds\n",
    "\n",
    "Each student will work with slightly different data splits and model weights, which will be determined by setting your 'random seed'. \n",
    "We will check that your results come from using your random seed. Please set the seed in the cell below by changing the value of 'my_student_number' to your own student number (not your username, the number you can see on eVision that contains only digits). \n",
    "\n",
    "Using the correct seed ensures that your results are reproducible when we rerun your notebook."
   ]
  },
  {
   "cell_type": "code",
   "execution_count": null,
   "id": "80bd735e",
   "metadata": {},
   "outputs": [],
   "source": [
    "import torch\n",
    "import random\n",
    "import numpy as np\n",
    "\n",
    "def set_seed(seed: int = 42):\n",
    "    random.seed(seed)  # Python's built-in random module\n",
    "    np.random.seed(seed)  # NumPy\n",
    "    torch.manual_seed(seed)  # PyTorch CPU\n",
    "    torch.cuda.manual_seed(seed)  # PyTorch GPU (if available)\n",
    "    torch.cuda.manual_seed_all(seed)  # Multi-GPU\n",
    "    torch.backends.cudnn.deterministic = True  # Ensure deterministic behavior\n",
    "    torch.backends.cudnn.benchmark = False  # Disable benchmark mode for reproducibility\n",
    "\n",
    "### SET YOUR SEED TO YOUR STUDENT NUMBER HERE\n",
    "my_student_number = 23490\n",
    "set_seed(my_student_number)"
   ]
  },
  {
   "cell_type": "markdown",
   "id": "2877d086",
   "metadata": {},
   "source": [
    "# Setup: loading the data\n",
    "\n",
    "Let's make a folder to save the output of your work:"
   ]
  },
  {
   "cell_type": "code",
   "execution_count": 36,
   "id": "60bd9213",
   "metadata": {},
   "outputs": [],
   "source": [
    "import os\n",
    "import pandas as pd\n",
    "\n",
    "os.mkdir('./outputs')"
   ]
  },
  {
   "cell_type": "markdown",
   "id": "f79fc2c4",
   "metadata": {},
   "source": [
    "Now, let's load some more packages we will need later:"
   ]
  },
  {
   "cell_type": "code",
   "execution_count": 2,
   "id": "annoying-ethiopia",
   "metadata": {},
   "outputs": [],
   "source": [
    "%load_ext autoreload\n",
    "%autoreload 2\n",
    "\n",
    "# Use HuggingFace's datasets library to access the Emotion dataset\n",
    "from datasets import load_dataset\n",
    "import numpy as np\n",
    "from sklearn.model_selection import train_test_split "
   ]
  },
  {
   "cell_type": "markdown",
   "id": "09e90e82-bbdb-4532-91b1-58229d4f1043",
   "metadata": {},
   "source": [
    "\n",
    "The dataset classifies paragraphs taken from corporate disclosures that discuss climate-related issues. It classifiers them into \"risk\" (0), \"neutral\" (1) or \"opportunity\" (2) representing the sentiment of the paragraph.\n",
    "\n",
    "First we need to load the data. The data is already split into train, validation and test. The _validation_ set (also called 'development' set or 'devset') can be used to compute performance of your model when tuning hyperparameters, optimising combinations of features, or looking at the errors your model makes before improving it. This allows you to hold out the test set (i.e., not to look at it at all when developing your method) to give a fair evaluation of the model and how well it generalises to new examples. This avoids tuning the model to specific examples in the test set. An alternative approach to validation is to not use a single fixed validation set, but instead use [cross validation](https://scikit-learn.org/stable/modules/cross_validation.html). "
   ]
  },
  {
   "cell_type": "code",
   "execution_count": null,
   "id": "efaf1096-acce-4226-a172-5357f49e91c1",
   "metadata": {},
   "outputs": [],
   "source": [
    "cache_dir = \"./data_cache\"\n",
    "\n",
    "# load the original training set from HuggingFace\n",
    "train_dataset = load_dataset(\n",
    "    \"climatebert/climate_sentiment\",\n",
    "    split=\"train\",\n",
    "    cache_dir=cache_dir,\n",
    ")\n",
    "\n",
    "# we're going to create a new validation set by splitting the data\n",
    "dataset_splits = train_dataset.train_test_split(test_size=0.2)\n",
    "train_dataset = dataset_splits[\"train\"]\n",
    "val_dataset = dataset_splits[\"test\"]\n",
    "\n",
    "train_texts = np.array(train_dataset[\"text\"])\n",
    "val_texts = np.array(val_dataset[\"text\"])\n",
    "\n",
    "train_labels = np.array(train_dataset[\"label\"])\n",
    "val_labels = np.array(val_dataset[\"label\"])\n",
    "\n",
    "print(f\"Training dataset with {len(train_texts)} instances loaded\")\n",
    "print(f\"Development/validation dataset with {len(val_texts)} instances loaded\")\n",
    "\n",
    "### DO NOT MODIFY\n",
    "# save gold labels to file\n",
    "pd.DataFrame(val_labels).to_csv('./outputs/val_labels.csv')"
   ]
  },
  {
   "cell_type": "markdown",
   "id": "38916c42",
   "metadata": {},
   "source": [
    "In this notebook, you're going to build three different classifiers for this dataset, then compare how they work, and analyse the results. We are going to start by implementing a naïve Bayes classifier from scratch. \n",
    "\n",
    "We are going to begin by initialising some useful variables and doing some very simple pre-processing using CountVectorizer."
   ]
  },
  {
   "cell_type": "code",
   "execution_count": null,
   "id": "5fb3e757",
   "metadata": {},
   "outputs": [],
   "source": [
    "from sklearn.feature_extraction.text import CountVectorizer\n",
    "from nltk import word_tokenize\n",
    "\n",
    "num_classes = 3\n",
    "\n",
    "def preprocess(train_texts):\n",
    "    vectorizer = CountVectorizer(ngram_range=(2,2), tokenizer=word_tokenize)\n",
    "    X = vectorizer.fit_transform(train_texts).toarray()\n",
    "    num_features = X.shape[1]\n",
    "\n",
    "    X_val = vectorizer.transform(val_texts).toarray()\n",
    "\n",
    "    return X, X_val, vectorizer, num_features\n",
    "\n",
    "X, X_val, vectorizer, num_features = preprocess(train_texts)"
   ]
  },
  {
   "cell_type": "markdown",
   "id": "9cb1f7d1",
   "metadata": {},
   "source": [
    "## TASK 1.1a\n",
    "\n",
    "Complete the function below to compute the class priors, $p(y_n = c)$ for each class label $c$, where $y_n$ is the class label of document $n$. Do not use the Sklearn implementation to do this, but implement it yourself, e.g., using Numpy functions. The function must output the class priors as a list or Numpy array containing the probabilities. You do not need to apply any smoothing or regularisation.    (3 marks)"
   ]
  },
  {
   "cell_type": "code",
   "execution_count": null,
   "id": "79e7da69",
   "metadata": {},
   "outputs": [],
   "source": [
    "def compute_class_priors(texts, labels):\n",
    "    priors = np.zeros(num_classes)\n",
    "\n",
    "    ### WRITE YOUR ANSWER HERE\n",
    "\n",
    "    ### END OF ANSWER\n",
    "    return priors\n",
    "\n",
    "\n",
    "class_priors = compute_class_priors(train_texts, train_labels)\n",
    "print(class_priors)\n",
    "\n",
    "### DO NOT MODIFY\n",
    "pd.DataFrame(class_priors).to_csv('./outputs/11a_class_priors.csv')"
   ]
  },
  {
   "cell_type": "markdown",
   "id": "3bc8c63e",
   "metadata": {},
   "source": [
    "## TASK 1.1b\n",
    "\n",
    "Complete the function below to extract n-gram features from the text, then compute the liklihood $p(x_{ni} = w | y_n = c)$ that the $i$ th n-gram in document $n$ is $w$, given that the class of $n$ is $c$. Again, do not use the Sklearn implementation to do this, but implement it yourself, e.g., using Numpy functions. The function must output the likelihoods as a 2D Numpy array containing probabilities. You should apply smoothing by adding counts of +1 to the counts of each feature.  (3 marks)"
   ]
  },
  {
   "cell_type": "code",
   "execution_count": null,
   "id": "91d8722e",
   "metadata": {},
   "outputs": [],
   "source": [
    "def compute_feature_likelihoods(X, labels):\n",
    "\n",
    "    likelihoods = np.ones((num_features, num_classes))  # a 2D numpy array where you can store the likelihoods. Note that all values are initialised to one.\n",
    "\n",
    "    ### WRITE YOUR ANSWER HERE\n",
    "\n",
    "\n",
    "    ### END OF ANSWER\n",
    "    return likelihoods\n",
    "\n",
    "likelihoods = compute_feature_likelihoods(X, train_labels)\n",
    "\n",
    "### DO NOT MODIFY\n",
    "pd.DataFrame(likelihoods).to_csv('./outputs/11b_likelihoods.csv')"
   ]
  },
  {
   "cell_type": "markdown",
   "id": "8f6a867a",
   "metadata": {},
   "source": [
    "Now, we are going to use the code in the next cell to compute the log probabilities of each class for each text in the validation set. This code will use the previous functions you implemented, compute_class_priors and compute_feature_likelihoods. The log probabilities will be stored in the 'predictions' array."
   ]
  },
  {
   "cell_type": "code",
   "execution_count": null,
   "id": "30194a65",
   "metadata": {},
   "outputs": [],
   "source": [
    "from scipy.special import logsumexp\n",
    "\n",
    "\n",
    "def NB_classify(class_priors, likelihoods, X_val):\n",
    "\n",
    "    predictions = np.zeros((X_val.shape[0], num_classes))  # an empty numpy array to store the predictions in\n",
    "\n",
    "    sum_of_log_likelihoods = X_val.dot(np.log(likelihoods))\n",
    "    log_joint_prob = sum_of_log_likelihoods + np.log(class_priors)[None, :]\n",
    "    for n, doc in enumerate(X_val):\n",
    "        predictions[n, :] = log_joint_prob[n]\n",
    "        predictions[n, :] -= logsumexp(predictions[n, :])\n",
    "    return predictions\n",
    "\n",
    "predictions = NB_classify(class_priors, likelihoods, X_val)\n",
    "print(predictions)"
   ]
  },
  {
   "cell_type": "markdown",
   "id": "d25d91f5",
   "metadata": {},
   "source": [
    "Use the 'predictions' array above to compute and print the accuracy of the classifier on the validation set.   "
   ]
  },
  {
   "cell_type": "code",
   "execution_count": null,
   "id": "c70cca90",
   "metadata": {},
   "outputs": [],
   "source": [
    "from sklearn.metrics import accuracy_score\n",
    "\n",
    "accuracy_score(val_labels, np.argmax(predictions, axis=1))"
   ]
  },
  {
   "cell_type": "markdown",
   "id": "a322e627",
   "metadata": {},
   "source": [
    "## TASK 1.1c\n",
    "\n",
    "The simplicty of naïve Bayes means that we can quite easily interpret the model. In the code above, we used the functions you implemented, compute_feature_likelihoods and compute_class_priors, to train an NB classifier with our training set. Given this classifier, which are the five n-gram features that most strongly indicate that the document belongs to class 0? Store these features in the 'top_features' list below.    (4 marks)"
   ]
  },
  {
   "cell_type": "code",
   "execution_count": null,
   "id": "b6369d13",
   "metadata": {},
   "outputs": [],
   "source": [
    "top_features = []\n",
    "\n",
    "### WRITE YOUR ANSWER HERE\n",
    "\n",
    "\n",
    "\n",
    "### END OF ANSWER\n",
    "\n",
    "### DO NOT MODIFY\n",
    "print(top_features)\n",
    "pd.DataFrame(top_features).to_csv('./outputs/11c_top_feats.csv')\n",
    "###"
   ]
  },
  {
   "cell_type": "markdown",
   "id": "caecba31",
   "metadata": {},
   "source": [
    "Up to this point, the classifier used bigrams features extracted using CountVectorizer with the wordnet tokenizer. \n",
    "\n",
    "## TASK 1.1d\n",
    "\n",
    "Your task is to improve the naïve Bayes classifier by changing the preprocessing or features only. It is up to you to decide how many changes are needed to improve the classifier -- a single change may be enough to achieve a good result (and maximum marks) and you should only include steps that help performance. Complete the 'preprocess_improved' function below, and run the cell to compute accuracy of the improved classifier on the validation set.     (3 marks)"
   ]
  },
  {
   "cell_type": "code",
   "execution_count": null,
   "id": "a4a80f2d",
   "metadata": {},
   "outputs": [],
   "source": [
    "def preprocess_improved(train_texts):\n",
    "    ### WRITE YOUR ANSWER HERE\n",
    "\n",
    "    vectorizer = CountVectorizer(ngram_range=(2,2), tokenizer=word_tokenize)\n",
    "    X = vectorizer.fit_transform(train_texts).toarray()\n",
    "    num_features = X.shape[1]\n",
    "\n",
    "    X_val = vectorizer.transform(val_texts).toarray()\n",
    "\n",
    "    ### END OF ANSWER\n",
    "\n",
    "    return X, X_val, vectorizer, num_features\n",
    "\n",
    "X, X_val, vectorizer, num_features = preprocess_improved(train_texts)\n",
    "class_priors = compute_class_priors(train_texts, train_labels)\n",
    "likelihoods = compute_feature_likelihoods(X, train_labels)\n",
    "predictions = NB_classify(class_priors, likelihoods, X_val)\n",
    "predictions_nb = np.argmax(predictions, axis=1)\n",
    "\n",
    "### DO NOT MODIFY\n",
    "pd.DataFrame(predictions_nb).to_csv('./outputs/11d_improved_preds.csv')\n",
    "accuracy_improved = accuracy_score(val_labels, predictions_nb)\n",
    "print(accuracy_improved)\n",
    "###"
   ]
  },
  {
   "cell_type": "markdown",
   "id": "f4c60bcf",
   "metadata": {},
   "source": [
    "## TASK 1.2\n",
    "\n",
    "Below is an implementation of a neural network classifier that we can apply to the same dataset. However, there are some mistakes in the code and some poor choices in the choice of parameters and architecture. Your task is to fix the errors, make better parameter choices, and improve the model's performance. **Modify the code within the next cell** to improve the neural network classifier, then run it and compute its accuracy using the code in the cell after that.   (8 marks)"
   ]
  },
  {
   "cell_type": "code",
   "execution_count": null,
   "id": "8091f8f2",
   "metadata": {},
   "outputs": [],
   "source": [
    "### DO NOT MODIFY\n",
    "set_seed(my_student_number)\n",
    "###\n",
    "\n",
    "### WRITE YOUR ANSWER HERE: MODIFY THE CODE WITHIN THIS CELL\n",
    " \n",
    "from torch import nn\n",
    "from torch import optim\n",
    "from transformers import AutoTokenizer\n",
    "from torch.utils.data import DataLoader\n",
    "\n",
    "tokenizer = AutoTokenizer.from_pretrained(\"climatebert/distilroberta-base-climate-f\")  \n",
    "\n",
    "sequence_length = 5  # truncate all docs longer than this. Pad all docs shorter than this.\n",
    "batch_size = 1\n",
    "\n",
    "def tokenize_function(examples):\n",
    "    return tokenizer(\n",
    "        examples[\"text\"],  # Adjust the key based on your dataset structure\n",
    "        padding=\"max_length\",  # Ensures equal sequence lengths\n",
    "        truncation=True,       # Truncates longer sequences\n",
    "        max_length=sequence_length,        # Adjust as needed\n",
    "        return_tensors=\"pt\"\n",
    "    )\n",
    "\n",
    "tokenized_dataset = train_dataset.map(tokenize_function, batched=True)\n",
    "tokenized_dataset.set_format(type=\"torch\", columns=[\"input_ids\", \"attention_mask\", \"label\"])  # Adjust column names\n",
    "train_loader = DataLoader(tokenized_dataset, batch_size=batch_size, shuffle=True)\n",
    "\n",
    "tokenized_dataset = val_dataset.map(tokenize_function, batched=True)\n",
    "tokenized_dataset.set_format(type=\"torch\", columns=[\"input_ids\", \"attention_mask\", \"label\"])  # Adjust column names\n",
    "val_loader = DataLoader(tokenized_dataset, batch_size=batch_size, shuffle=False)\n",
    "\n",
    "class FFTextClassifier(nn.Module):\n",
    "    \n",
    "    def __init__(self, vocab_size, sequence_length, num_classes, embedding_size=2, hidden_size=2):\n",
    "        super(FFTextClassifier, self).__init__()\n",
    "\n",
    "        self.embedding_size = embedding_size\n",
    "        self.sequence_length = sequence_length\n",
    "\n",
    "        # Here we just need to construct the components of our network. We don't need to connect them together yet.\n",
    "        self.embedding_layer = nn.Embedding(vocab_size, embedding_size) # embedding layer\n",
    "        self.hidden_layer = nn.Linear(self.embedding_size*sequence_length, hidden_size)  #nn.LSTM(self.embedding_size, hidden_size, bidirectional=True, batch_first=True) # Hidden layer\n",
    "        self.activation = nn.ReLU() # Hidden layer\n",
    "        self.output_layer = nn.Linear(hidden_size, num_classes) # Full connection layer\n",
    "        \n",
    "        \n",
    "    def forward(self, input_words):\n",
    "        # Input dimensions are:  (batch_size, seq_length)\n",
    "        embedded_words = self.embedding_layer(input_words)  # (batch_size, seq_length, embedding_size)\n",
    "\n",
    "        # flatten the sequence of embedding vectors for each document into a single vector.\n",
    "        embedded_words = embedded_words.reshape(embedded_words.shape[0], self.sequence_length*self.embedding_size)  #(embedded_words.shape[0], self.sequence_length*self.embedding_size)  # batch_size, seq_length*embedding_size\n",
    "\n",
    "        z = self.hidden_layer(embedded_words)   # (batch_size, seq_length, hidden_size)\n",
    "        h = self.activation(z)                  # (batch_size, seq_length, hidden_size)\n",
    "\n",
    "        output = self.output_layer(h)                      # (batch_size, num_classes)\n",
    "\n",
    "        # Notice we haven't applied a softmax activation to the output layer -- it's not required by Pytorch's loss function.\n",
    "\n",
    "        return output\n",
    "\n",
    "\n",
    "    def run_training(self, train_dataloader, dev_dataloader):\n",
    "\n",
    "        # training hyperparameters\n",
    "        num_epochs = 1   \n",
    "        learning_rate = 5e5  # learning rate for the gradient descent optimizer, related to the step size\n",
    "\n",
    "        loss_fn = nn.CrossEntropyLoss()  # create loss function object\n",
    "        optimizer = optim.Adam(self.parameters(), lr=learning_rate)  # create the optimizer\n",
    "        \n",
    "        dev_losses = []\n",
    "            \n",
    "        for e in range(num_epochs):\n",
    "            # Track performance on the training set as we are learning...\n",
    "            train_losses = []\n",
    "\n",
    "            self.train()  # Put the model in training mode.\n",
    "\n",
    "            for i, batch in enumerate(train_dataloader):\n",
    "                # Iterate over each batch of data\n",
    "\n",
    "                optimizer.zero_grad()  # Reset the optimizer\n",
    "\n",
    "                # Use the model to perform forward inference on the input data.\n",
    "                # This will run the forward() function.\n",
    "                output = self(batch['input_ids'])\n",
    "\n",
    "                # Compute the loss for the current batch of data\n",
    "                batch_loss = loss_fn(output, batch['label'])\n",
    "\n",
    "                # Perform back propagation to compute the gradients with respect to each weight\n",
    "                batch_loss.backward()\n",
    "\n",
    "                # Update the weights using the compute gradients\n",
    "                optimizer.step()\n",
    "\n",
    "                # Record the loss from this sample to keep track of progress.\n",
    "                train_losses.append(batch_loss.item())\n",
    "\n",
    "            print(\"Epoch: {}/{}\".format((e+1), num_epochs),\n",
    "                \"Training Loss: {:.4f}\".format(np.mean(train_losses)))\n",
    "\n",
    "            self.eval()  # Switch model to evaluation mode\n",
    "\n",
    "            dev_losses_epoch = []\n",
    "            \n",
    "            for dev_batch in dev_dataloader:\n",
    "                dev_output = self(dev_batch['input_ids'])\n",
    "                dev_loss = loss_fn(dev_output, dev_batch['label'])\n",
    "\n",
    "                # Save the loss on the dev set\n",
    "                dev_losses_epoch.append(dev_loss.item())\n",
    "                        \n",
    "            dev_losses.append(np.mean(dev_losses_epoch))\n",
    "                    \n",
    "            print(\"Epoch: {}/{}\".format((e+1), num_epochs),\n",
    "                \"Validation Loss: {:.4f}\".format(dev_losses[-1]) )\n",
    "\n",
    "        return dev_losses\n",
    "\n",
    "def predict_nn(trained_model, data_loader):\n",
    "\n",
    "    trained_model.eval()\n",
    "\n",
    "    pred_labs = []  # predicted labels to return\n",
    "    \n",
    "    for batch in data_loader:\n",
    "        test_output = trained_model(batch['input_ids'])\n",
    "        predicted_labels = test_output.argmax(1)\n",
    "        pred_labs.extend(predicted_labels.tolist())\n",
    "    \n",
    "    return pred_labs\n",
    "\n",
    "vocab_size = max(tokenizer.get_vocab().values()) + 1\n",
    "nn_classifier_model = FFTextClassifier(vocab_size, sequence_length, num_classes)\n",
    "dev_losses = nn_classifier_model.run_training(train_loader, val_loader)\n",
    "\n",
    "predictions_nn = predict_nn(nn_classifier_model, val_loader)\n",
    "\n",
    "### END OF ANSWER \n",
    "\n",
    "### DO NOT MODIFY\n",
    "pd.DataFrame(predictions_nn).to_csv(\"./outputs/12_nn_preds.csv\")\n",
    "accuracy_nn = accuracy_score(val_labels, predictions_nn)\n",
    "print(accuracy_nn)\n",
    "###"
   ]
  },
  {
   "cell_type": "markdown",
   "id": "665ddf4e",
   "metadata": {},
   "source": [
    "We now explore the use of transformers for building a text classifier. First, let's look at how the process a document. We'll chose one at random from the training set:"
   ]
  },
  {
   "cell_type": "code",
   "execution_count": 48,
   "id": "54d2a23e",
   "metadata": {},
   "outputs": [],
   "source": [
    "### DO NOT MODIFY\n",
    "chosen_document = train_texts[np.random.randint(len(train_texts))]"
   ]
  },
  {
   "cell_type": "markdown",
   "id": "ca45d880",
   "metadata": {},
   "source": [
    "## TASK 1.3a\n",
    "\n",
    "Use the HuggingFace transformers library to load the pretrained BERT model \"prajjwal1/bert-tiny\". Obtain a document embedding for the chosen document given above. Comment your code to explain how it obtains a representation of the document.    (3 marks)"
   ]
  },
  {
   "cell_type": "code",
   "execution_count": null,
   "id": "1266cce6",
   "metadata": {},
   "outputs": [],
   "source": [
    "### DO NOT MODIFY\n",
    "set_seed(my_student_number)\n",
    "###\n",
    "\n",
    "### WRITE YOUR ANSWER HERE\n",
    "\n",
    "doc_emb = []  # use this variable to store the document embedding\n",
    "\n",
    "\n",
    "### END OF ANSWER\n",
    "\n",
    "### DO NOT MODIFY\n",
    "pd.DataFrame(doc_emb).to_csv('./outputs/13a_sen_emb.csv')\n",
    "print(doc_emb)\n",
    "###"
   ]
  },
  {
   "cell_type": "markdown",
   "id": "aa93e1d9",
   "metadata": {},
   "source": [
    "## TASK 1.3b\n",
    "\n",
    "Using the same document embeddings method as the previous task (1.3a), find the most similar document to the 'chosen_document' from within the validation set (from the 'val_texts' object). Use a standard similarity metric that considers the direction but not the magnitude of the embedding vectors.  (2 marks)"
   ]
  },
  {
   "cell_type": "code",
   "execution_count": null,
   "id": "19d97094",
   "metadata": {},
   "outputs": [],
   "source": [
    "### DO NOT MODIFY\n",
    "set_seed(my_student_number)\n",
    "###\n",
    "\n",
    "### WRITE YOUR ANSWER HERE\n",
    "\n",
    "most_similar_doc = \"\"  # use this variable to store the most similar document\n",
    "\n",
    "### END OF ANSWER\n",
    "\n",
    "### DO NOT MODIFY\n",
    "pd.DataFrame([chosen_document, most_similar_doc]).to_csv(\"./outputs/13b_most_similar.csv\")\n",
    "print(chosen_document)\n",
    "print(most_similar_doc)\n",
    "###"
   ]
  },
  {
   "cell_type": "markdown",
   "id": "89641896",
   "metadata": {},
   "source": [
    "## TASK 1.3c\n",
    "\n",
    "Implement a classifier based on the same pretrained transformer model, \"prajjwal1/bert-tiny\". Evaluate your model's performance on the validation set. Use an 'auto class' from HuggingFace to build your classifier (see https://huggingface.co/docs/transformers/model_doc/auto).   (6 marks)"
   ]
  },
  {
   "cell_type": "code",
   "execution_count": null,
   "id": "2e6fd664",
   "metadata": {},
   "outputs": [],
   "source": [
    "### DO NOT MODIFY\n",
    "set_seed(my_student_number)\n",
    "###\n",
    "\n",
    "### WRITE YOUR ANSWER HERE\n",
    "\n",
    "predictions_bert = []  # use this variable to store the predicted labels for the validation set\n",
    "\n",
    "### END OF ANSWER\n",
    "\n",
    "### DO NOT MODIFY\n",
    "pd.DataFrame(predictions_bert).to_csv('./outputs/13c_bert_preds.csv')\n",
    "accuracy_tinybert = accuracy_score(val_dataset[\"label\"], predictions_bert)\n",
    "print(accuracy_tinybert)\n",
    "###"
   ]
  }
 ],
 "metadata": {
  "kernelspec": {
   "display_name": "text_analytics",
   "language": "python",
   "name": "python3"
  },
  "language_info": {
   "codemirror_mode": {
    "name": "ipython",
    "version": 3
   },
   "file_extension": ".py",
   "mimetype": "text/x-python",
   "name": "python",
   "nbconvert_exporter": "python",
   "pygments_lexer": "ipython3",
   "version": "3.11.11"
  }
 },
 "nbformat": 4,
 "nbformat_minor": 5
}
